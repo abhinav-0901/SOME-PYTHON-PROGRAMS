{
 "cells": [
  {
   "cell_type": "code",
   "execution_count": 9,
   "metadata": {},
   "outputs": [],
   "source": [
    "class BankAcc():\n",
    "    \n",
    "    def __init__(self,owner,balance):\n",
    "        self.owner=owner\n",
    "        self.balance=balance\n",
    "    def deposit(self,amount):\n",
    "        self.balance=self.balance+amount\n",
    "        print('THE BALANCE NOW IS {}'.format(self.balance))\n",
    "    def widrawal(self,amount):\n",
    "        if(amount>self.balance):\n",
    "            print('INSUFFICIUNT FUNDS!!!!')\n",
    "        else:\n",
    "            self.balance=self.balance-amount\n",
    "            print('PLEASE COLLECT YOUR CASH. YOUR BALANCE NOW IS {}'.format(self.balance))\n",
    "    "
   ]
  },
  {
   "cell_type": "code",
   "execution_count": 10,
   "metadata": {},
   "outputs": [],
   "source": [
    "b=BankAcc('THAPAR',1000000)"
   ]
  },
  {
   "cell_type": "code",
   "execution_count": 11,
   "metadata": {},
   "outputs": [
    {
     "name": "stdout",
     "output_type": "stream",
     "text": [
      "THE BALANCE NOW IS 1005000\n"
     ]
    }
   ],
   "source": [
    "b.deposit(5000)"
   ]
  },
  {
   "cell_type": "code",
   "execution_count": 12,
   "metadata": {},
   "outputs": [
    {
     "name": "stdout",
     "output_type": "stream",
     "text": [
      "PLEASE COLLECT YOUR CASH. YOUR BALANCE NOW IS 202500\n"
     ]
    }
   ],
   "source": [
    "b.widrawal(802500)"
   ]
  },
  {
   "cell_type": "code",
   "execution_count": 13,
   "metadata": {},
   "outputs": [
    {
     "name": "stdout",
     "output_type": "stream",
     "text": [
      "INSUFFICIUNT FUNDS!!!!\n"
     ]
    }
   ],
   "source": [
    "b.widrawal(455555555555)"
   ]
  },
  {
   "cell_type": "code",
   "execution_count": null,
   "metadata": {},
   "outputs": [],
   "source": []
  }
 ],
 "metadata": {
  "kernelspec": {
   "display_name": "Python 3",
   "language": "python",
   "name": "python3"
  },
  "language_info": {
   "codemirror_mode": {
    "name": "ipython",
    "version": 3
   },
   "file_extension": ".py",
   "mimetype": "text/x-python",
   "name": "python",
   "nbconvert_exporter": "python",
   "pygments_lexer": "ipython3",
   "version": "3.7.3"
  }
 },
 "nbformat": 4,
 "nbformat_minor": 2
}
